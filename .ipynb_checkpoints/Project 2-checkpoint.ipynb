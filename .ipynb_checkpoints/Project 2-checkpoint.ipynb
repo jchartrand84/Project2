{
 "cells": [
  {
   "cell_type": "markdown",
   "source": [
    "#**Project 2 - Power Generation Data Set**\n",
    "* Jonathan Chartrand and Robert Boutette\n",
    "\n",
    "[Data source](https://www.kaggle.com/datasets/ccanb23/iea-monthly-electricity-statistics)\n",
    "![Energy Consumption](https://drive.google.com/file/d/12lsszlB6pnYUz13XAnn3iywbazUI7GE1/view?usp=drive_link)\n",
    "\n",
    "The dataset selected for analysis in this project was sourced from the International Energy Agency (IEA) through their Monthly Electricity Statistics tool. This comprehensive dataset covers monthly energy production data across various countries from 2010 to 2022, measured in gigawatt-hours (GWh). It encompasses a wide range of energy sources, including hydro, wind, solar, geothermal, nuclear, and both renewable and non-renewable combustible fuels. The data provides a detailed overview of the global energy production landscape, offering insights into the trends and shifts in energy sources across different regions and times. This dataset, compiled and made accessible through a dedicated scraper available on GitHub, represents a rich resource for understanding global energy production dynamics."
   ],
   "metadata": {
    "collapsed": false
   },
   "id": "2c9e347309f9f56a"
  },
  {
   "cell_type": "code",
   "outputs": [
    {
     "name": "stdout",
     "output_type": "stream",
     "text": [
      "Number of rows: 181915\n",
      "Number of columns: 12\n",
      "\n",
      "Data types:\n",
      "COUNTRY                object\n",
      "CODE_TIME              object\n",
      "TIME                   object\n",
      "YEAR                    int64\n",
      "MONTH                   int64\n",
      "MONTH_NAME             object\n",
      "PRODUCT                object\n",
      "VALUE                 float64\n",
      "DISPLAY_ORDER           int64\n",
      "yearToDate            float64\n",
      "previousYearToDate    float64\n",
      "share                 float64\n",
      "dtype: object\n",
      "\n",
      "First 5 rows:\n",
      "     COUNTRY CODE_TIME          TIME  YEAR  MONTH MONTH_NAME  \\\n",
      "0  Australia   JAN2010  January 2010  2010      1    January   \n",
      "1  Australia   JAN2010  January 2010  2010      1    January   \n",
      "2  Australia   JAN2010  January 2010  2010      1    January   \n",
      "3  Australia   JAN2010  January 2010  2010      1    January   \n",
      "4  Australia   JAN2010  January 2010  2010      1    January   \n",
      "\n",
      "                   PRODUCT      VALUE  DISPLAY_ORDER  yearToDate  \\\n",
      "0                    Hydro    990.728              1   16471.891   \n",
      "1                     Wind    409.469              2    4940.909   \n",
      "2                    Solar     49.216              3     908.238   \n",
      "3               Geothermal      0.083              4       0.996   \n",
      "4  Total combustible fuels  19289.730              7  214302.969   \n",
      "\n",
      "   previousYearToDate     share  \n",
      "0                 NaN  0.047771  \n",
      "1                 NaN  0.019744  \n",
      "2                 NaN  0.002373  \n",
      "3                 NaN  0.000004  \n",
      "4                 NaN  0.930108  \n"
     ]
    }
   ],
   "source": [
    "import pandas as pd\n",
    "\n",
    "# Load the data\n",
    "df = pd.read_csv('data.csv')\n",
    "\n",
    "# Print the number of rows and columns\n",
    "print(f'Number of rows: {df.shape[0]}')\n",
    "print(f'Number of columns: {df.shape[1]}')\n",
    "\n",
    "# Print the data types of the columns\n",
    "print('\\nData types:')\n",
    "print(df.dtypes)\n",
    "\n",
    "# Display the first 5 rows\n",
    "print('\\nFirst 5 rows:')\n",
    "print(df.head())"
   ],
   "metadata": {
    "collapsed": false,
    "ExecuteTime": {
     "end_time": "2024-03-07T15:15:42.312764Z",
     "start_time": "2024-03-07T15:15:42.086467Z"
    }
   },
   "id": "54cab224bb42f451",
   "execution_count": 2
  },
  {
   "cell_type": "markdown",
   "source": [
    "The dataset we're looking into provides a snapshot of how much electricity different countries around the world have produced over the years, from 2010 to 2022. It tells us the story of our energy usage, highlighting what kind of energy sources we've been depending on. For example, it shows how much energy we've gotten from natural elements like water (hydro), wind, and the sun (solar), as well as from the ground (geothermal) and advanced technology like nuclear power.\n",
    "\n",
    "Beyond these, it also tracks energy production from traditional sources that have been with us for a longer time, such as coal, oil, and natural gas, which are collectively known as fossil fuels. The dataset doesn't just stop at showing how much energy we produce; it dives deeper to show the mix of energy sources (like renewables vs. non-renewables), how much energy we import or export, losses during distribution, and ultimately how much energy ends up being consumed.\n",
    "\n",
    "Covering a broad array of countries, from Argentina to the United States, it reflects both local and global trends in energy production. Each entry in the dataset gives us information about the country, the month and year of the data, and specifics about the type of energy being produced and its quantity in GWh. This detailed breakdown can help us understand not just how our energy production has evolved over the years, but also how different countries contribute differently to global energy dynamics.\n",
    "\n",
    "In essence, this dataset is like a diary of our planet's energy story, telling us where we've been getting our power from, how much of it we've been using, and how these patterns have changed over the years. It's a vital tool for anyone looking to understand the shifting sands of global energy production, offering insights into the challenges and opportunities that lie ahead in our quest for sustainable and reliable energy sources."
   ],
   "metadata": {
    "collapsed": false
   },
   "id": "c755142b46295069"
  }
 ],
 "metadata": {
  "kernelspec": {
   "display_name": "Python 3",
   "language": "python",
   "name": "python3"
  },
  "language_info": {
   "codemirror_mode": {
    "name": "ipython",
    "version": 2
   },
   "file_extension": ".py",
   "mimetype": "text/x-python",
   "name": "python",
   "nbconvert_exporter": "python",
   "pygments_lexer": "ipython2",
   "version": "2.7.6"
  }
 },
 "nbformat": 4,
 "nbformat_minor": 5
}
